{
 "cells": [
  {
   "cell_type": "code",
   "execution_count": null,
   "metadata": {},
   "outputs": [],
   "source": [
    "import numpy as np\n",
    "import pandas as pd\n",
    "\n",
    "from NU_utils import load_eda_statistic_pd,reduce_mem_usage\n",
    "\n",
    "import os\n",
    "import gc\n",
    "\n",
    "import matplotlib.pyplot as plt\n",
    "import seaborn as sns\n",
    "\n",
    "import dill as pickle\n",
    "\n",
    "from catboost import Pool"
   ]
  },
  {
   "cell_type": "code",
   "execution_count": null,
   "metadata": {},
   "outputs": [],
   "source": [
    "train = pd.read_csv(\"data/train/0.csv\")\n",
    "target = pd.read_csv(\"data/train_label.csv\")\n",
    "test = pd.read_csv(\"data/test/828.csv\")\n",
    "sample_submission = pd.read_csv(\"data/sample_submission.csv\")\n",
    "print(\"{} observations and {} features in {} train set.\".format(train.shape[0],train.shape[1], len(os.listdir(\"data/train\"))))\n",
    "print(\"{} observations and {} features in {} test set.\".format(test.shape[0],test.shape[1],len(os.listdir(\"data/test\"))))\n",
    "print(\"train : test row ratio {} and file {}\".format(train.shape[0] / test.shape[0], len(os.listdir(\"data/train\"))/len(os.listdir(\"data/test\"))))"
   ]
  },
  {
   "cell_type": "code",
   "execution_count": null,
   "metadata": {},
   "outputs": [],
   "source": [
    "def plot_feature_linechart(df, features, target = False, save = False, filename = \"\"):\n",
    "    \"\"\"\n",
    "    feature들의 linechart 그려주는 함수\n",
    "    argument:\n",
    "        df - (pd.dataframe) DataFrame\n",
    "        features - 그릴 feature 들\n",
    "    \"\"\"\n",
    "    if target == True:\n",
    "        ntarget = df[target].value_counts().keys().values #(string np.array) target feature의 class 확인\n",
    "        subdf = [df.loc[df[target] == label] for label in ntarget] #(df list) df grouped by target, ntarget key 순서\n",
    "    i = 0\n",
    "    plt.figure()\n",
    "    fig, ax = plt.subplots(8,8,figsize=(24,30))\n",
    "\n",
    "    for feature in features:\n",
    "        i += 1\n",
    "        plt.subplot(8,8,i)\n",
    "        if target == True:\n",
    "            for _i,label in enumerate(ntarget):\n",
    "                plt.plot(subdf[_i][feature])\n",
    "        else:\n",
    "            plt.plot(df[feature])\n",
    "        plt.xlabel(feature, fontsize=9)\n",
    "        locs, labels = plt.xticks()\n",
    "        plt.tick_params(axis='x', which='major', labelsize=13, pad=0)\n",
    "        plt.tick_params(axis='y', which='major', labelsize=10)\n",
    "        #plt.legend()\n",
    "    if save == True:\n",
    "        plt.savefig(filename)"
   ]
  },
  {
   "cell_type": "code",
   "execution_count": null,
   "metadata": {},
   "outputs": [],
   "source": [
    "count = 2\n",
    "features = train.columns[1 + (64 *count) :65 + (64 *(count))]\n",
    "plot_feature_linechart(train.iloc[0:20], features)"
   ]
  },
  {
   "cell_type": "code",
   "execution_count": null,
   "metadata": {},
   "outputs": [],
   "source": [
    "for j in range(81):\n",
    "    filename = \"eda/linechart/\" + str(0) +\"/\" + str(j)+ \".png\"\n",
    "    features = train.columns[1 + 64*j :65 + 64*j]\n",
    "    plot_feature_linechart(train.iloc[0:20], features, 'target',True, filename)"
   ]
  },
  {
   "cell_type": "code",
   "execution_count": null,
   "metadata": {},
   "outputs": [],
   "source": [
    "train.std()"
   ]
  },
  {
   "cell_type": "code",
   "execution_count": null,
   "metadata": {},
   "outputs": [],
   "source": [
    "def plot_feature_distribution(df, features, target = None, save = False, filename = \"\"):\n",
    "    \"\"\"\n",
    "    feature들의 histogram 그려주는 함수\n",
    "    argument:\n",
    "        df - (pd.dataframe) DataFrame\n",
    "        features - 그릴 feature 들\n",
    "    \"\"\"\n",
    "    if target != None:\n",
    "        ntarget = df[target].value_counts().keys().values #(string np.array) target feature의 class 확인\n",
    "        subdf = [df.loc[df[target] == label] for label in ntarget] #(df list) df grouped by target, ntarget key 순서\n",
    "    i = 0\n",
    "    plt.figure()\n",
    "    fig, ax = plt.subplots(8,8,figsize=(24,30))\n",
    "\n",
    "    for feature in features:\n",
    "        i += 1\n",
    "        plt.subplot(8,8,i)\n",
    "        if target != None:\n",
    "            for _i,label in enumerate(ntarget):\n",
    "                sns.distplot(subdf[_i][feature], hist=True,label=label)\n",
    "        else:\n",
    "            for _i,label in enumerate(ntarget):\n",
    "                sns.distplot(subdf[_i][feature], hist=True)\n",
    "        plt.xlabel(feature, fontsize=9)\n",
    "        locs, labels = plt.xticks()\n",
    "        plt.tick_params(axis='x', which='major', labelsize=13, pad=0)\n",
    "        plt.tick_params(axis='y', which='major', labelsize=10)\n",
    "        #plt.legend()\n",
    "    if save == True:\n",
    "        plt.savefig(filename)"
   ]
  },
  {
   "cell_type": "code",
   "execution_count": null,
   "metadata": {},
   "outputs": [],
   "source": [
    "temp1 = train.copy()\n",
    "temp2 = test.copy()\n",
    "temp1[\"label\"] = 0\n",
    "temp2[\"label\"] = 1\n",
    "total = pd.concat([temp1, temp2])"
   ]
  },
  {
   "cell_type": "code",
   "execution_count": null,
   "metadata": {},
   "outputs": [],
   "source": [
    "for i in range(total.shape[1]//64 + 1):\n",
    "    count = i\n",
    "    filename = \"eda/distplot/\"+ str(i) + \".png\"\n",
    "    features = train.columns[1 + (64 *count) : 65 + (64 *(count))]\n",
    "    plot_feature_distribution(pd.concat([temp1,temp2]),features, target = \"label\",save = True, filename = filename)"
   ]
  }
 ],
 "metadata": {
  "kernelspec": {
   "display_name": "Python 3",
   "language": "python",
   "name": "python3"
  },
  "language_info": {
   "codemirror_mode": {
    "name": "ipython",
    "version": 3
   },
   "file_extension": ".py",
   "mimetype": "text/x-python",
   "name": "python",
   "nbconvert_exporter": "python",
   "pygments_lexer": "ipython3",
   "version": "3.7.3"
  }
 },
 "nbformat": 4,
 "nbformat_minor": 2
}
