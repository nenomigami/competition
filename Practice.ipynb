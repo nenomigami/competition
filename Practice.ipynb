{
 "cells": [
  {
   "cell_type": "markdown",
   "metadata": {},
   "source": [
    "### 데이터 타입 기록###\n",
    "A. 데이터 설명\n",
    "\n",
    "본 대회에서는 한국수력원자력(주)에서 제공받은 원자력 발전소 모사 데이터 및 실제 데이터가 제공됩니다. \n",
    "\n",
    "주어진 10분 사이에 발전소의 상태가 변하며 변하기 전 발전소 상태를 상태_A, 변한 후 상태를 상태_B라고 할 때 \n",
    "\n",
    "데이터를 기반으로 상태_B를 판단하는 것이 대회의 목적입니다. 모든 데이터는 같은 상태 (상태_A)에서 시작합니다. \n",
    "\n",
    "\n",
    "\n",
    "모사 데이터는 0초에서 15초 사이에 상태가 변하기 시작합니다. 모든 데이터가 숫자로 이루어져 있습니다. \n",
    "\n",
    "반면 실제 데이터는 10초에 상태가 변하기 시작합니다. 실제 데이터에는 Bad, CLOSE, Equip Fail, No Data, Normal, OFF, ON, OPEN, System.Char[] 등 문자열 데이터를 포함하고 있으며 결측치가 있을 수 있습니다. \n",
    "\n",
    "\n",
    "\n",
    "훈련 데이터로는 10분 데이터가 주어지며 테스트 데이터로는 1분 간 데이터가 주어집니다. 즉 1분 데이터만 사용하여 평가합니다. \n",
    "\n",
    "\n",
    "\n",
    "B. 파일 설명\n",
    "\n",
    "1. train.zip(9.81GB) : 훈련 데이터가 포함된 zip 파일입니다.\n",
    "\n",
    "2. test.zip(879MB) : 테스트 데이터가 포함된 zip 파일입니다.\n",
    "\n",
    "   train.zip, test.zip 내 파일이름은 해당되는 고유한 번호 (id) 로 되어 있습니다. train과 test의 id는 중복되지 않습니다.\n",
    "\n",
    "3. train_label.csv(6.78KB) : 훈련데이터의 id (파일 이름)에 해당되는 상태_B를 정리한 파일입니다. \n",
    "\n",
    "4. sample_submission.csv(283KB) : 제출 형식과 동일한 샘플 데이터 입니다.\n",
    "\n",
    "5. additional_data.zip(13.9MB) : 실제 발전소 운전 데이터 입니다. 참고자료로 주어지는 파일입니다. (컬럼은 train 및 test 데이터와 같습니다.)\n",
    "\n",
    "\n",
    "\n",
    "데이터 파일 컬럼에 대한 설명은 아래와 같습니다.\n",
    "\n",
    "time : 발전소 운전 경과 시간 입니다. 단위는 초 입니다.\n",
    "\n",
    "V0000~V5120 : 발전소 운영 중 측정되는 변수 입니다. 비식별화 되어 제공됩니다."
   ]
  },
  {
   "cell_type": "markdown",
   "metadata": {},
   "source": [
    "O 코드 관련\n",
    "\n",
    "1) 입상자는 코드 제출 필수. 제출 코드는 예측 결과를 리더보드 점수로 복원할 수 있어야 함\n",
    "\n",
    "2) 코드 제출시 확장자가 R user는 R or .rmd. Python user는 .py or .ipynb\n",
    "\n",
    "3) 코드에 ‘/data’ 데이터 입/출력 경로 포함 제출\n",
    "\n",
    "4) 전체 프로세스를 일목요연하게 정리하여 주석을 포함하여 하나의 파일로 제출\n",
    "\n",
    "5) 모든 코드는 오류 없이 실행되어야 함(라이브러리 로딩 코드 포함되어야 함).\n",
    "\n",
    "6) 코드와 주석의 인코딩은 모두 UTF-8을 사용하여야 함 "
   ]
  },
  {
   "cell_type": "markdown",
   "metadata": {},
   "source": [
    "## metric\n",
    "평가 지표는 Log Loss를 사용합니다."
   ]
  },
  {
   "cell_type": "code",
   "execution_count": null,
   "metadata": {},
   "outputs": [],
   "source": [
    "import numpy as np\n",
    "import pandas as pd\n",
    "\n",
    "from NU_utils import load_eda_statistic_pd,reduce_mem_usage\n",
    "\n",
    "import os\n",
    "import gc\n",
    "\n",
    "import matplotlib.pyplot as plt\n",
    "import seaborn as sns\n",
    "\n",
    "import dill as pickle\n",
    "\n",
    "from multiprocessing import Pool \n",
    "import multiprocessing\n",
    "from data_loader import data_loader #data_loader.py 파일을 다운 받아 주셔야 합니다. \n",
    "from tqdm import tqdm\n",
    "from functools import partial"
   ]
  },
  {
   "cell_type": "code",
   "execution_count": 2,
   "metadata": {},
   "outputs": [],
   "source": [
    "pd.set_option(\"display.precision\", 15)\n",
    "np.set_printoptions(suppress=True)"
   ]
  },
  {
   "cell_type": "code",
   "execution_count": 3,
   "metadata": {},
   "outputs": [
    {
     "name": "stdout",
     "output_type": "stream",
     "text": [
      "600 observations and 5122 features in 828 train set.\n",
      "60 observations and 5122 features in 300 test set.\n",
      "train : test row ratio 10.0 and file 2.76\n"
     ]
    }
   ],
   "source": [
    "train = pd.read_csv(\"data/train/0.csv\")\n",
    "target = pd.read_csv(\"data/train_label.csv\")\n",
    "test = pd.read_csv(\"data/test/829.csv\")\n",
    "sample_submission = pd.read_csv(\"data/sample_submission.csv\")\n",
    "print(\"{} observations and {} features in {} train set.\".format(train.shape[0],train.shape[1], len(os.listdir(\"data/train\"))))\n",
    "print(\"{} observations and {} features in {} test set.\".format(test.shape[0],test.shape[1],len(os.listdir(\"data/test\"))))\n",
    "print(\"train : test row ratio {} and file {}\".format(train.shape[0] / test.shape[0], len(os.listdir(\"data/train\"))/len(os.listdir(\"data/test\"))))"
   ]
  },
  {
   "cell_type": "markdown",
   "metadata": {},
   "source": [
    "### Issue:\n",
    "- column 수 많음 -> 과적합\n",
    "- train 을 모델에 어떻게 넣을 것인지  \n",
    "ex1) train 파일 827개 붙이기  \n",
    "ex2) 600 개마다 압축해서 1개씩 row추출 -> new dataset 만들기 shape(827, 1)  \n",
    "- train, test 분포 같은지 확인  \n"
   ]
  },
  {
   "cell_type": "code",
   "execution_count": 4,
   "metadata": {},
   "outputs": [
    {
     "data": {
      "text/html": [
       "<div>\n",
       "<style scoped>\n",
       "    .dataframe tbody tr th:only-of-type {\n",
       "        vertical-align: middle;\n",
       "    }\n",
       "\n",
       "    .dataframe tbody tr th {\n",
       "        vertical-align: top;\n",
       "    }\n",
       "\n",
       "    .dataframe thead th {\n",
       "        text-align: right;\n",
       "    }\n",
       "</style>\n",
       "<table border=\"1\" class=\"dataframe\">\n",
       "  <thead>\n",
       "    <tr style=\"text-align: right;\">\n",
       "      <th></th>\n",
       "      <th>id</th>\n",
       "      <th>label</th>\n",
       "    </tr>\n",
       "  </thead>\n",
       "  <tbody>\n",
       "    <tr>\n",
       "      <th>0</th>\n",
       "      <td>0</td>\n",
       "      <td>110</td>\n",
       "    </tr>\n",
       "    <tr>\n",
       "      <th>1</th>\n",
       "      <td>1</td>\n",
       "      <td>29</td>\n",
       "    </tr>\n",
       "    <tr>\n",
       "      <th>2</th>\n",
       "      <td>2</td>\n",
       "      <td>111</td>\n",
       "    </tr>\n",
       "    <tr>\n",
       "      <th>3</th>\n",
       "      <td>3</td>\n",
       "      <td>176</td>\n",
       "    </tr>\n",
       "    <tr>\n",
       "      <th>4</th>\n",
       "      <td>4</td>\n",
       "      <td>130</td>\n",
       "    </tr>\n",
       "  </tbody>\n",
       "</table>\n",
       "</div>"
      ],
      "text/plain": [
       "   id  label\n",
       "0   0    110\n",
       "1   1     29\n",
       "2   2    111\n",
       "3   3    176\n",
       "4   4    130"
      ]
     },
     "execution_count": 4,
     "metadata": {},
     "output_type": "execute_result"
    }
   ],
   "source": [
    "target.head()"
   ]
  },
  {
   "cell_type": "code",
   "execution_count": 5,
   "metadata": {},
   "outputs": [
    {
     "data": {
      "text/html": [
       "<div>\n",
       "<style scoped>\n",
       "    .dataframe tbody tr th:only-of-type {\n",
       "        vertical-align: middle;\n",
       "    }\n",
       "\n",
       "    .dataframe tbody tr th {\n",
       "        vertical-align: top;\n",
       "    }\n",
       "\n",
       "    .dataframe thead th {\n",
       "        text-align: right;\n",
       "    }\n",
       "</style>\n",
       "<table border=\"1\" class=\"dataframe\">\n",
       "  <thead>\n",
       "    <tr style=\"text-align: right;\">\n",
       "      <th></th>\n",
       "      <th>time</th>\n",
       "      <th>V0000</th>\n",
       "      <th>V0001</th>\n",
       "      <th>V0002</th>\n",
       "      <th>V0003</th>\n",
       "      <th>V0004</th>\n",
       "      <th>V0005</th>\n",
       "      <th>V0006</th>\n",
       "      <th>V0007</th>\n",
       "      <th>V0008</th>\n",
       "      <th>...</th>\n",
       "      <th>V5111</th>\n",
       "      <th>V5112</th>\n",
       "      <th>V5113</th>\n",
       "      <th>V5114</th>\n",
       "      <th>V5115</th>\n",
       "      <th>V5116</th>\n",
       "      <th>V5117</th>\n",
       "      <th>V5118</th>\n",
       "      <th>V5119</th>\n",
       "      <th>V5120</th>\n",
       "    </tr>\n",
       "  </thead>\n",
       "  <tbody>\n",
       "    <tr>\n",
       "      <th>0</th>\n",
       "      <td>0</td>\n",
       "      <td>30.486805514842338</td>\n",
       "      <td>8.682229709860227</td>\n",
       "      <td>8.736398910338401</td>\n",
       "      <td>8.691251076945651</td>\n",
       "      <td>8.711798339169684</td>\n",
       "      <td>204.576460623191906</td>\n",
       "      <td>201.196817649585427</td>\n",
       "      <td>-1.213967078312627e-19</td>\n",
       "      <td>0.0</td>\n",
       "      <td>...</td>\n",
       "      <td>1.0</td>\n",
       "      <td>1.0</td>\n",
       "      <td>1.0</td>\n",
       "      <td>1.0</td>\n",
       "      <td>60.0</td>\n",
       "      <td>127.579999999999998</td>\n",
       "      <td>112.263000000000005</td>\n",
       "      <td>-0.264702541577738</td>\n",
       "      <td>85.400000000000006</td>\n",
       "      <td>-0.00447415</td>\n",
       "    </tr>\n",
       "    <tr>\n",
       "      <th>1</th>\n",
       "      <td>1</td>\n",
       "      <td>30.460030037987185</td>\n",
       "      <td>8.784153357569387</td>\n",
       "      <td>8.691244152848498</td>\n",
       "      <td>8.706254149779934</td>\n",
       "      <td>8.716142510501294</td>\n",
       "      <td>194.222394536624648</td>\n",
       "      <td>169.979333039524050</td>\n",
       "      <td>-2.279681127678960e-19</td>\n",
       "      <td>0.0</td>\n",
       "      <td>...</td>\n",
       "      <td>1.0</td>\n",
       "      <td>1.0</td>\n",
       "      <td>1.0</td>\n",
       "      <td>1.0</td>\n",
       "      <td>60.0</td>\n",
       "      <td>0.000000000000000</td>\n",
       "      <td>0.000000000000000</td>\n",
       "      <td>0.000014497079589</td>\n",
       "      <td>85.400000000000006</td>\n",
       "      <td>0.00000000</td>\n",
       "    </tr>\n",
       "    <tr>\n",
       "      <th>2</th>\n",
       "      <td>2</td>\n",
       "      <td>30.475103338414659</td>\n",
       "      <td>8.812021652543272</td>\n",
       "      <td>8.697733382050595</td>\n",
       "      <td>8.721916599896808</td>\n",
       "      <td>8.681360887686026</td>\n",
       "      <td>193.078138847674495</td>\n",
       "      <td>160.719360406318742</td>\n",
       "      <td>-1.586759552327990e-19</td>\n",
       "      <td>0.0</td>\n",
       "      <td>...</td>\n",
       "      <td>1.0</td>\n",
       "      <td>1.0</td>\n",
       "      <td>1.0</td>\n",
       "      <td>1.0</td>\n",
       "      <td>60.0</td>\n",
       "      <td>0.000000000000000</td>\n",
       "      <td>0.000000000000000</td>\n",
       "      <td>-0.000012976989345</td>\n",
       "      <td>85.400000000000006</td>\n",
       "      <td>0.00000000</td>\n",
       "    </tr>\n",
       "    <tr>\n",
       "      <th>3</th>\n",
       "      <td>3</td>\n",
       "      <td>30.455413062677778</td>\n",
       "      <td>8.908323232851204</td>\n",
       "      <td>8.712004219791265</td>\n",
       "      <td>8.723829259947346</td>\n",
       "      <td>8.724655165932754</td>\n",
       "      <td>207.644178077476766</td>\n",
       "      <td>232.675872694281566</td>\n",
       "      <td>-4.016422511668063e-19</td>\n",
       "      <td>0.0</td>\n",
       "      <td>...</td>\n",
       "      <td>1.0</td>\n",
       "      <td>1.0</td>\n",
       "      <td>1.0</td>\n",
       "      <td>1.0</td>\n",
       "      <td>60.0</td>\n",
       "      <td>0.000000000000000</td>\n",
       "      <td>0.000000000000000</td>\n",
       "      <td>0.000019206433100</td>\n",
       "      <td>85.400000000000006</td>\n",
       "      <td>0.00000000</td>\n",
       "    </tr>\n",
       "    <tr>\n",
       "      <th>4</th>\n",
       "      <td>4</td>\n",
       "      <td>30.472642226216010</td>\n",
       "      <td>8.815619533760145</td>\n",
       "      <td>8.702881894087803</td>\n",
       "      <td>8.722938992806702</td>\n",
       "      <td>8.702340739541391</td>\n",
       "      <td>186.112451151374728</td>\n",
       "      <td>160.829340162648720</td>\n",
       "      <td>8.676680433001273e-19</td>\n",
       "      <td>0.0</td>\n",
       "      <td>...</td>\n",
       "      <td>1.0</td>\n",
       "      <td>1.0</td>\n",
       "      <td>1.0</td>\n",
       "      <td>1.0</td>\n",
       "      <td>60.0</td>\n",
       "      <td>0.000000000000000</td>\n",
       "      <td>0.000000000000000</td>\n",
       "      <td>-0.000008471765777</td>\n",
       "      <td>85.400000000000006</td>\n",
       "      <td>0.00000000</td>\n",
       "    </tr>\n",
       "  </tbody>\n",
       "</table>\n",
       "<p>5 rows × 5122 columns</p>\n",
       "</div>"
      ],
      "text/plain": [
       "   time               V0000              V0001              V0002  \\\n",
       "0     0  30.486805514842338  8.682229709860227  8.736398910338401   \n",
       "1     1  30.460030037987185  8.784153357569387  8.691244152848498   \n",
       "2     2  30.475103338414659  8.812021652543272  8.697733382050595   \n",
       "3     3  30.455413062677778  8.908323232851204  8.712004219791265   \n",
       "4     4  30.472642226216010  8.815619533760145  8.702881894087803   \n",
       "\n",
       "               V0003              V0004                V0005  \\\n",
       "0  8.691251076945651  8.711798339169684  204.576460623191906   \n",
       "1  8.706254149779934  8.716142510501294  194.222394536624648   \n",
       "2  8.721916599896808  8.681360887686026  193.078138847674495   \n",
       "3  8.723829259947346  8.724655165932754  207.644178077476766   \n",
       "4  8.722938992806702  8.702340739541391  186.112451151374728   \n",
       "\n",
       "                 V0006                  V0007  V0008  ...  V5111  V5112  \\\n",
       "0  201.196817649585427 -1.213967078312627e-19    0.0  ...    1.0    1.0   \n",
       "1  169.979333039524050 -2.279681127678960e-19    0.0  ...    1.0    1.0   \n",
       "2  160.719360406318742 -1.586759552327990e-19    0.0  ...    1.0    1.0   \n",
       "3  232.675872694281566 -4.016422511668063e-19    0.0  ...    1.0    1.0   \n",
       "4  160.829340162648720  8.676680433001273e-19    0.0  ...    1.0    1.0   \n",
       "\n",
       "   V5113  V5114  V5115                V5116                V5117  \\\n",
       "0    1.0    1.0   60.0  127.579999999999998  112.263000000000005   \n",
       "1    1.0    1.0   60.0    0.000000000000000    0.000000000000000   \n",
       "2    1.0    1.0   60.0    0.000000000000000    0.000000000000000   \n",
       "3    1.0    1.0   60.0    0.000000000000000    0.000000000000000   \n",
       "4    1.0    1.0   60.0    0.000000000000000    0.000000000000000   \n",
       "\n",
       "               V5118               V5119       V5120  \n",
       "0 -0.264702541577738  85.400000000000006 -0.00447415  \n",
       "1  0.000014497079589  85.400000000000006  0.00000000  \n",
       "2 -0.000012976989345  85.400000000000006  0.00000000  \n",
       "3  0.000019206433100  85.400000000000006  0.00000000  \n",
       "4 -0.000008471765777  85.400000000000006  0.00000000  \n",
       "\n",
       "[5 rows x 5122 columns]"
      ]
     },
     "execution_count": 5,
     "metadata": {},
     "output_type": "execute_result"
    }
   ],
   "source": [
    "train.head()"
   ]
  },
  {
   "cell_type": "markdown",
   "metadata": {},
   "source": [
    "### 정리\n",
    "- 5121개의 column이 Anonymized 된 binary classifiacation, multivarate timeseries  \n",
    "\n",
    "\n",
    "### 문제 정의\n",
    "- 5121개의 column이 Anonymized 된 Multiclass classification, \n",
    "- 0 ~ 15초 사이에 상태가 B로 변함 B의 종류는 198 가지\n",
    "- B의 종류를 판단하는 것이 목표  \n",
    "모든 변수가 timeseries인 상태, iid 기반 모델 사용불가, 중요 변수를 어떻게 선택할지\n",
    "- 5122개의 column / 600 * 827 개의 row \n",
    "- train , test 는 모사데이터 => 인공 데이터인경우 정규분포 기반 모델 잘통함 QDA, GMM 등등"
   ]
  },
  {
   "cell_type": "code",
   "execution_count": 6,
   "metadata": {},
   "outputs": [
    {
     "name": "stdout",
     "output_type": "stream",
     "text": [
      "<class 'pandas.core.frame.DataFrame'>\n",
      "RangeIndex: 600 entries, 0 to 599\n",
      "Columns: 5122 entries, time to V5120\n",
      "dtypes: float64(5121), int64(1)\n",
      "memory usage: 23.4 MB\n",
      "\n",
      "\n",
      "<class 'pandas.core.frame.DataFrame'>\n",
      "RangeIndex: 60 entries, 0 to 59\n",
      "Columns: 5122 entries, time to V5120\n",
      "dtypes: float64(5121), int64(1)\n",
      "memory usage: 2.3 MB\n"
     ]
    }
   ],
   "source": [
    "train.info()\n",
    "print(\"\\n\")\n",
    "test.info()"
   ]
  },
  {
   "cell_type": "markdown",
   "metadata": {},
   "source": [
    "- int 인 변수들도 float으로 되어 있음 => 정리 필요"
   ]
  },
  {
   "cell_type": "code",
   "execution_count": 7,
   "metadata": {},
   "outputs": [],
   "source": [
    "eda = load_eda_statistic_pd(\"eda.pkl\",train)"
   ]
  },
  {
   "cell_type": "code",
   "execution_count": 8,
   "metadata": {},
   "outputs": [
    {
     "data": {
      "text/plain": [
       "0"
      ]
     },
     "execution_count": 8,
     "metadata": {},
     "output_type": "execute_result"
    }
   ],
   "source": [
    "eda[\"isnull_table\"].sum(axis=0)"
   ]
  },
  {
   "cell_type": "markdown",
   "metadata": {},
   "source": [
    "- 모든 column 결측치 없음"
   ]
  },
  {
   "cell_type": "code",
   "execution_count": 9,
   "metadata": {},
   "outputs": [],
   "source": [
    "#train,_ = reduce_mem_usage(train,False)"
   ]
  },
  {
   "cell_type": "code",
   "execution_count": 10,
   "metadata": {},
   "outputs": [
    {
     "name": "stdout",
     "output_type": "stream",
     "text": [
      "<class 'pandas.core.frame.DataFrame'>\n",
      "RangeIndex: 600 entries, 0 to 599\n",
      "Columns: 5122 entries, time to V5120\n",
      "dtypes: float64(5121), int64(1)\n",
      "memory usage: 23.4 MB\n"
     ]
    }
   ],
   "source": [
    "train.info()"
   ]
  },
  {
   "cell_type": "markdown",
   "metadata": {},
   "source": [
    "\n",
    "- 소수 : 32개\n",
    "- -127 ~ 128 : 23개\n",
    "- 128 이상 자연수 : 8개\n",
    "- 0 ~ 255 : 2657개"
   ]
  },
  {
   "cell_type": "markdown",
   "metadata": {},
   "source": [
    "### Y부터 분석"
   ]
  },
  {
   "cell_type": "code",
   "execution_count": 11,
   "metadata": {},
   "outputs": [
    {
     "data": {
      "text/plain": [
       "0      110\n",
       "1       29\n",
       "2      111\n",
       "3      176\n",
       "4      130\n",
       "      ... \n",
       "823     19\n",
       "824    166\n",
       "825    132\n",
       "826     84\n",
       "827    110\n",
       "Name: label, Length: 828, dtype: int64"
      ]
     },
     "execution_count": 11,
     "metadata": {},
     "output_type": "execute_result"
    }
   ],
   "source": [
    "target[\"label\"]"
   ]
  },
  {
   "cell_type": "code",
   "execution_count": 12,
   "metadata": {},
   "outputs": [
    {
     "data": {
      "text/plain": [
       "count    828.000000000000000\n",
       "mean      98.057971014492750\n",
       "std       53.433469774381571\n",
       "min        0.000000000000000\n",
       "25%       54.000000000000000\n",
       "50%      111.000000000000000\n",
       "75%      130.000000000000000\n",
       "max      197.000000000000000\n",
       "Name: label, dtype: float64"
      ]
     },
     "execution_count": 12,
     "metadata": {},
     "output_type": "execute_result"
    }
   ],
   "source": [
    "target[\"label\"].describe()"
   ]
  },
  {
   "cell_type": "code",
   "execution_count": 13,
   "metadata": {},
   "outputs": [
    {
     "data": {
      "text/plain": [
       "110    24\n",
       "17     21\n",
       "114    20\n",
       "118    20\n",
       "113    19\n",
       "       ..\n",
       "134     1\n",
       "135     1\n",
       "137     1\n",
       "138     1\n",
       "98      1\n",
       "Name: label, Length: 198, dtype: int64"
      ]
     },
     "execution_count": 13,
     "metadata": {},
     "output_type": "execute_result"
    }
   ],
   "source": [
    "target[\"label\"].value_counts()"
   ]
  },
  {
   "cell_type": "markdown",
   "metadata": {},
   "source": [
    "### ISSUE\n",
    "- B로 상태가 변하는 시점을 알 필요가 있을까?\n",
    "- 상태 A인 0 ~ 15초, 상태 B인 15 ~ 600초 어떤 데이터를 사용해야할까?\n",
    "    - 일단 변수들이 급격하게 변하는 구간을 찾고 그 부분을 전을 A, 이후를 B로 라벨링해서 새로운 변수를 만든 다음에 모델에 넣어보자  \n",
    "    => 변수 급격하게 변하는 구간 못찾겠다  \n",
    "    => 일단 15초 다 날리고 시작\n",
    "- training set 구성할 때 그러면 600개의 데이터를 모두 라벨에 해당하는 값을 y값으로 넣고 827개를 합친다음에 데이터 구성?\n",
    "\n",
    "### DATA 구성\n",
    "1. 상태 B의 종류를 판단하려면 0 ~ 15초인 상태 A의 상태가 중요하다  \n",
    "   따라서 15~600 데이터를 날린다  \n",
    "2. 상태 B의 종류를 판단하려면 15 ~ 600초인 상태 B의 상태가 중요하다\n",
    "3. 상태 B의 종류를 판단하려면 상태 A, B 상태 둘다 중요하다, 따라서 최대한 변화시점을 찾아 구분하여 데이터를 살린다"
   ]
  },
  {
   "cell_type": "markdown",
   "metadata": {},
   "source": [
    "### EDA\n",
    "0~20 초 사이 데이터만 뽑아서 plotting"
   ]
  },
  {
   "cell_type": "code",
   "execution_count": 14,
   "metadata": {},
   "outputs": [],
   "source": [
    "from sklearn.preprocessing import StandardScaler"
   ]
  },
  {
   "cell_type": "code",
   "execution_count": 15,
   "metadata": {},
   "outputs": [
    {
     "data": {
      "text/plain": [
       "<matplotlib.axes._subplots.AxesSubplot at 0x274ebe27e10>"
      ]
     },
     "execution_count": 15,
     "metadata": {},
     "output_type": "execute_result"
    },
    {
     "data": {
      "image/png": "[encoded data removed]",
      "text/plain": [
       "<Figure size 432x288 with 1 Axes>"
      ]
     },
     "metadata": {
      "needs_background": "light"
     },
     "output_type": "display_data"
    }
   ],
   "source": [
    "col = train.columns\n",
    "scaler = StandardScaler()\n",
    "\n",
    "scaled_train = scaler.fit_transform(train)\n",
    "scaled_train = pd.DataFrame(scaled_train, columns = col)\n",
    "sns.distplot(scaled_train.std())"
   ]
  },
  {
   "cell_type": "markdown",
   "metadata": {},
   "source": [
    "### Line chart 정리\n",
    "- 눈으로 봐서는 상태가 바뀌는 구간을 찾기 쉽지 않음\n",
    "- Peak를 찾는 여러 방법을 동원해야할듯 => 나중에"
   ]
  },
  {
   "cell_type": "markdown",
   "metadata": {},
   "source": [
    "## 2번 의견 모델링\n",
    "\n",
    "### training set 만들기\n",
    "상태 B가 중요하므로 상태 A (1초 ~ 15초) 데이터는 삭제  \n",
    "obs 마다 y가 필요하므로 training label 을 row 마다 반복하여 삽입  \n",
    "상태 B의 데이터를 보고 Y의 종류를 판단하는 multiclass classification 이며 y 가 시간 t에 의존하지 않으므로 각 상태를 iid로 봐도 됨  \n",
    "=> 828개 데이터를 모두 merge  \n",
    "Test data 예측시에도 동일하게 1초 ~ 15초를 날린다음 나머지 45개 데이터에 대해 예측한 뒤 확률들을 평균  "
   ]
  },
  {
   "cell_type": "code",
   "execution_count": 16,
   "metadata": {},
   "outputs": [],
   "source": [
    "def data_loader_all(func, path, train, nrows, **kwargs):\n",
    "    '''\n",
    "    Parameters:\n",
    "    \n",
    "    func: 하나의 csv파일을 읽는 함수 \n",
    "    path: [str] train용 또는 test용 csv 파일들이 저장되어 있는 폴더 \n",
    "    train: [boolean] train용 파일들 불러올 시 True, 아니면 False\n",
    "    nrows: [int] csv 파일에서 불러올 상위 n개의 row \n",
    "    lookup_table: [pd.DataFrame] train_label.csv 파일을 저장한 변수 \n",
    "    event_time: [int] 상태_B 발생 시간 \n",
    "    normal: [int] 상태_A의 라벨\n",
    "    \n",
    "    Return:\n",
    "    \n",
    "    combined_df: 병합된 train 또는 test data\n",
    "    '''\n",
    "    \n",
    "    # 읽어올 파일들만 경로 저장 해놓기 \n",
    "    files_in_dir = os.listdir(path)\n",
    "    \n",
    "    files_path = [path+'/'+file for file in files_in_dir]\n",
    "    \n",
    "    if train :\n",
    "        func_fixed = partial(func, nrows = nrows, train = True, lookup_table = kwargs['lookup_table'], event_time = kwargs['event_time'], normal = kwargs['normal'])\n",
    "        \n",
    "    else : \n",
    "        func_fixed = partial(func, nrows = nrows, train = False)\n",
    "    \n",
    "    \n",
    "    # 여러개의 코어를 활용하여 데이터 읽기 \n",
    "    if __name__ == '__main__':\n",
    "        pool = Pool(processes = multiprocessing.cpu_count()) \n",
    "        df_list = list(tqdm(pool.imap(func_fixed, files_path), total = len(files_path)))\n",
    "        pool.close()\n",
    "        pool.join()\n",
    "    \n",
    "    # 데이터 병합하기 \n",
    "    combined_df = pd.concat(df_list, ignore_index=True)\n",
    "    \n",
    "    return combined_df"
   ]
  },
  {
   "cell_type": "code",
   "execution_count": 17,
   "metadata": {},
   "outputs": [],
   "source": [
    "if \"checkpoint1.pkl\" not in os.listdir():\n",
    "    train_path = 'data/train'\n",
    "    test_path = 'data/test'\n",
    "    label = pd.read_csv('data/train_label.csv')\n",
    "    train = data_loader_all(data_loader, path = train_path, train = True, \n",
    "                            nrows = 60, normal = 999, event_time = 15, lookup_table = label)\n",
    "    test = data_loader_all(data_loader, path = test_path, train = False, nrows = 60)\n",
    "    \n",
    "    train_isnull_table = train.isnull().sum(axis = 0)\n",
    "    test_isnull_table = test.isnull().sum(axis = 0)\n",
    "    \n",
    "    train, tr_na,_ = reduce_mem_usage(train,False)\n",
    "    test, te_na,_ = reduce_mem_usage(test,False)\n",
    "\n",
    "    data = {\"log\" : \"앞 60개뽑음\\nNA처리 -99999 \\ntrain,test 용량줄임 \",\n",
    "            \"train\" : train,\n",
    "            \"tr_isna\" : train_isnull_table,\n",
    "            \"tr_na\" : tr_na,\n",
    "            \"test\" : test,\n",
    "            \"te_na\" : te_na,\n",
    "            \"te_isna\" : test_isnull_table}\n",
    "\n",
    "    with open(\"checkpoint1.pkl\",\"wb\") as f:\n",
    "        pickle.dump(data,f)\n",
    "else:\n",
    "    with open('checkpoint1.pkl', 'rb') as f:\n",
    "        data = pickle.load(f)\n",
    "    train = data[\"train\"]; del data[\"train\"]\n",
    "    test = data[\"test\"]; del data[\"test\"]\n",
    "    \n",
    "    tr_na = data[\"tr_na\"]; del data[\"tr_na\"]\n",
    "    te_na = data[\"te_na\"]; del data[\"te_na\"]\n",
    "   \n",
    "    train_isnull_table = data[\"tr_isna\"]; del data[\"tr_isna\"]\n",
    "    test_isnull_table = data[\"te_isna\"] ; del data[\"te_isna\"]\n",
    "    \n",
    "    del data"
   ]
  },
  {
   "cell_type": "code",
   "execution_count": 18,
   "metadata": {},
   "outputs": [
    {
     "name": "stdout",
     "output_type": "stream",
     "text": [
      "<class 'pandas.core.frame.DataFrame'>\n",
      "RangeIndex: 49680 entries, 0 to 49679\n",
      "Columns: 5124 entries, id to label\n",
      "dtypes: float32(2431), int8(2), object(1026), uint16(3), uint8(1662)\n",
      "memory usage: 928.7+ MB\n",
      "\n",
      "\n",
      "<class 'pandas.core.frame.DataFrame'>\n",
      "RangeIndex: 18000 entries, 0 to 17999\n",
      "Columns: 5123 entries, id to V5120\n",
      "dtypes: float32(2531), int8(15), uint16(5), uint8(2572)\n",
      "memory usage: 218.4 MB\n"
     ]
    }
   ],
   "source": [
    "train.info()\n",
    "print(\"\\n\")\n",
    "test.info()"
   ]
  },
  {
   "cell_type": "markdown",
   "metadata": {},
   "source": [
    "# ㅁ데이터 클리닝\n",
    "train set과 test 셋의 분포를 일치시켜 test 셋을 대변할 수 있는 validation set을 만든다\n",
    "### 1. 모든 열이 같은 값을 가지고 있으면 제거 "
   ]
  },
  {
   "cell_type": "code",
   "execution_count": 19,
   "metadata": {},
   "outputs": [],
   "source": [
    "def get_single_value_col(df):\n",
    "    \"\"\"\n",
    "    df내에서 값의 종류가 하나만 있는 columns을 return\n",
    "\n",
    "    args :\n",
    "        df -- (pd.DataFrame) \n",
    "        \n",
    "    return:\n",
    "        single -- (list) list of single value columns\n",
    "    \"\"\"\n",
    "    single = []\n",
    "    for col in df.columns:\n",
    "        if df[col].nunique() == 1:\n",
    "            single.append(col)\n",
    "    return single"
   ]
  },
  {
   "cell_type": "code",
   "execution_count": 20,
   "metadata": {},
   "outputs": [],
   "source": [
    "single_te = get_single_value_col(test)"
   ]
  },
  {
   "cell_type": "code",
   "execution_count": 21,
   "metadata": {},
   "outputs": [],
   "source": [
    "train = train.drop(single_te,axis = 1)\n",
    "test = test.drop(single_te,axis = 1)"
   ]
  },
  {
   "cell_type": "markdown",
   "metadata": {},
   "source": [
    "### 2. 0~15 초 데이터 제거"
   ]
  },
  {
   "cell_type": "code",
   "execution_count": 22,
   "metadata": {},
   "outputs": [],
   "source": [
    "train = train.loc[train[\"label\"]  != 999 ]\n",
    "test = test[test[\"time\"] >= 15]"
   ]
  },
  {
   "cell_type": "markdown",
   "metadata": {},
   "source": [
    "### 3. 문자열처리\n",
    "    - 30번째 파일 580개의 row는 String 값을 가지고 있음\n",
    "    - 나머지 다른 row 들은 모두 다 같은 경우가 많음\n",
    "    - test set 에도 String 값이 있는 데이터가 있다면 -> label 73 맵핑\n",
    "    - test set 에는 String 값이 있는 데이터가 없다면 -> \n",
    "        - 그 column의 값의 종류가 String 값을 제외하고 한개 밖에 없다면 -> 삭제\n",
    "        - 값의 종류가 여러개 있다면 -> test set을 보고 결정\n",
    " \n",
    "    - 1번 : 30번째 파일을 다 날린다\n",
    "    - 2번 : 테스트 셋을 보고 분포를 일치시키는 방향으로 처리한다."
   ]
  },
  {
   "cell_type": "markdown",
   "metadata": {},
   "source": [
    "#### 1번 : id 가 30인 row 삭제"
   ]
  },
  {
   "cell_type": "code",
   "execution_count": 23,
   "metadata": {
    "scrolled": false
   },
   "outputs": [],
   "source": [
    "train = train.loc[train[\"id\"] != 30]"
   ]
  },
  {
   "cell_type": "code",
   "execution_count": 24,
   "metadata": {},
   "outputs": [],
   "source": [
    "containing_str = train.select_dtypes('object').columns"
   ]
  },
  {
   "cell_type": "code",
   "execution_count": 25,
   "metadata": {},
   "outputs": [],
   "source": [
    "train[train.select_dtypes('object').columns] = train[train.select_dtypes('object').columns].astype('float32')"
   ]
  },
  {
   "cell_type": "code",
   "execution_count": 26,
   "metadata": {},
   "outputs": [
    {
     "name": "stdout",
     "output_type": "stream",
     "text": [
      "<class 'pandas.core.frame.DataFrame'>\n",
      "Int64Index: 37215 entries, 15 to 49679\n",
      "Columns: 3205 entries, id to label\n",
      "dtypes: float32(2537), uint16(2), uint8(666)\n",
      "memory usage: 384.2 MB\n",
      "\n",
      "\n",
      "<class 'pandas.core.frame.DataFrame'>\n",
      "Int64Index: 13500 entries, 15 to 17999\n",
      "Columns: 3204 entries, id to V5120\n",
      "dtypes: float32(2432), uint16(1), uint8(771)\n",
      "memory usage: 135.3 MB\n"
     ]
    }
   ],
   "source": [
    "train.info()\n",
    "print(\"\\n\")\n",
    "test.info()"
   ]
  },
  {
   "cell_type": "markdown",
   "metadata": {},
   "source": [
    "=> 모두 숫자데이터 만듬"
   ]
  },
  {
   "cell_type": "markdown",
   "metadata": {},
   "source": [
    "### 4. train 과 test set 의 분포 일치시키기\n",
    "\n",
    "- Adversarial test 결과 train 과 test 셋의 분포가 많이 다르다는 것을 알수 있었으\n",
    "- feature importance 를 사용해서 10개를 줄여보았으나 큰 차이는 없었음  \n",
    "\n",
    "\n",
    "- KS test를 사용해서 두 column 이 같은 분포에서 추출되었다는 가설이 기각되지 않을 때만 넣기로 하였음  \n",
    "- p- value 0.05 로 했더니 2300개가 통과  \n",
    "  \n",
    "  \n",
    "- 그래도 Adversarial test 시에 auc가 0.78 로 높음"
   ]
  },
  {
   "cell_type": "code",
   "execution_count": 27,
   "metadata": {},
   "outputs": [],
   "source": [
    "temp1 = train.copy()\n",
    "temp2 = test.copy()\n",
    "temp1[\"label\"] = 0\n",
    "temp2[\"label\"] = 1\n",
    "total = pd.concat([temp1, temp2])"
   ]
  },
  {
   "cell_type": "markdown",
   "metadata": {},
   "source": [
    "### Adversarial Test"
   ]
  },
  {
   "cell_type": "code",
   "execution_count": 28,
   "metadata": {},
   "outputs": [],
   "source": [
    "from sklearn.metrics import accuracy_score,roc_auc_score\n",
    "from sklearn.model_selection import train_test_split\n",
    "from catboost import Pool, CatBoostClassifier"
   ]
  },
  {
   "cell_type": "code",
   "execution_count": 29,
   "metadata": {},
   "outputs": [
    {
     "data": {
      "text/plain": [
       "(50715, 3205)"
      ]
     },
     "execution_count": 29,
     "metadata": {},
     "output_type": "execute_result"
    }
   ],
   "source": [
    "total.shape"
   ]
  },
  {
   "cell_type": "code",
   "execution_count": 30,
   "metadata": {},
   "outputs": [
    {
     "name": "stdout",
     "output_type": "stream",
     "text": [
      "Learning rate set to 0.115111\n",
      "0:\tlearn: 0.6390587\ttest: 0.6400988\tbest: 0.6400988 (0)\ttotal: 254ms\tremaining: 4m 13s\n",
      "500:\tlearn: 0.1717457\ttest: 0.2012593\tbest: 0.2012593 (500)\ttotal: 1m 48s\tremaining: 1m 48s\n",
      "999:\tlearn: 0.1279528\ttest: 0.1901221\tbest: 0.1893728 (834)\ttotal: 3m 43s\tremaining: 0us\n",
      "bestTest = 0.1893728279\n",
      "bestIteration = 834\n",
      "Shrink model to first 835 iterations.\n",
      "Wall time: 3min 53s\n"
     ]
    }
   ],
   "source": [
    "%%time\n",
    "feature_importance = pd.DataFrame()\n",
    "features = [c for c in total.columns if c not in ['id','time','label']]\n",
    "target = total['label']\n",
    "X_train, X_valid, y_train, y_valid = train_test_split(total[features], target, test_size=0.2, random_state=43)\n",
    "\n",
    "trn_data = Pool(X_train, y_train)\n",
    "val_data = Pool(X_valid, y_valid)\n",
    "\n",
    "model = CatBoostClassifier(task_type = \"GPU\",\n",
    "                           devices='0',\n",
    "                           random_seed = 10,\n",
    "                          )\n",
    "\n",
    "fit_model = model.fit(trn_data,\n",
    "                     eval_set = val_data,\n",
    "                     use_best_model = True,\n",
    "                     verbose = 500,\n",
    "                     plot = False)"
   ]
  },
  {
   "cell_type": "code",
   "execution_count": 31,
   "metadata": {},
   "outputs": [
    {
     "name": "stdout",
     "output_type": "stream",
     "text": [
      "roc_auc: 0.97357\n"
     ]
    }
   ],
   "source": [
    "p_valid = fit_model.predict_proba(X_valid[features].values)[:,1]\n",
    "roc_auc = roc_auc_score(y_valid, p_valid)\n",
    "feature_importance[\"feature\"] = features\n",
    "feature_importance[\"importance\"] = model.get_feature_importance(val_data,type='LossFunctionChange')\n",
    "print(f'roc_auc: {roc_auc:.5}')"
   ]
  },
  {
   "cell_type": "code",
   "execution_count": 32,
   "metadata": {},
   "outputs": [
    {
     "data": {
      "text/plain": [
       "<Figure size 432x288 with 0 Axes>"
      ]
     },
     "metadata": {},
     "output_type": "display_data"
    },
    {
     "data": {
      "image/png": "[encoded data removed]",
      "text/plain": [
       "<Figure size 1728x2160 with 1 Axes>"
      ]
     },
     "metadata": {
      "needs_background": "light"
     },
     "output_type": "display_data"
    }
   ],
   "source": [
    "plt.figure()\n",
    "fig, ax = plt.subplots(figsize=(24,30))\n",
    "sns.barplot(x=\"importance\", y=\"feature\", data=feature_importance.sort_values(by=\"importance\", ascending=False)[0:100]);\n",
    "plt.title('Catboost Importance');"
   ]
  },
  {
   "cell_type": "markdown",
   "metadata": {},
   "source": [
    "### 문제점\n",
    "모델이 train 과 test 를 구분 잘해냄\n",
    "원인 :\n",
    "1. 주최측에서 train set과 test set을 뽑을 때 random sampling을 하지 않았을 경우  \n",
    "2. 1500 개의 train 뭉치 중에서 outlier가 train set에만 많이 있었을경우  \n",
    "해결책 :   \n",
    "train과 test가 차이나게 만드는 변수를 없앤다.  \n",
    "=> test는 잘 예측 못해도 나머지 private data는 잘 예측할 수 도있다  \n",
    "=> 너무 모험.. 변수 없애는게 타당할듯  "
   ]
  },
  {
   "cell_type": "code",
   "execution_count": 33,
   "metadata": {},
   "outputs": [
    {
     "data": {
      "text/plain": [
       "['V0219',\n",
       " 'V2785',\n",
       " 'V3324',\n",
       " 'V4505',\n",
       " 'V2613',\n",
       " 'V1106',\n",
       " 'V3461',\n",
       " 'V1437',\n",
       " 'V2967',\n",
       " 'V3616']"
      ]
     },
     "execution_count": 33,
     "metadata": {},
     "output_type": "execute_result"
    }
   ],
   "source": [
    "list(feature_importance.sort_values(by=\"importance\", ascending=False)[0:10][\"feature\"])"
   ]
  },
  {
   "cell_type": "code",
   "execution_count": 34,
   "metadata": {},
   "outputs": [],
   "source": [
    "total = total.drop(['V2186', 'V2188', 'V1431', 'V2166', 'V2899', 'V2164', 'V1745', 'V2173', 'V2190', 'V2169','V2161',\n",
    "                   'V2167','V2159','V2165', 'V2834', 'V0090', 'V1205', 'V2174', 'V2178', 'V4418', 'V0885', \n",
    "                    'V1442', 'V2688'],axis = 1)"
   ]
  },
  {
   "cell_type": "code",
   "execution_count": 35,
   "metadata": {},
   "outputs": [],
   "source": [
    "from scipy.stats import ks_2samp\n",
    "hypothesisnotrejected = []\n",
    "hypothesisrejected = []\n",
    "\n",
    "for col in test.columns:\n",
    "    statistic, pvalue = ks_2samp(train[col], test[col])\n",
    "    if pvalue>=0.05:\n",
    "        hypothesisnotrejected.append(col)\n",
    "    if pvalue<0.05:\n",
    "        hypothesisrejected.append(col)\n",
    "        \n",
    "    #plt.figure(figsize=(8,4))\n",
    "    #plt.title(\"Kolmogorov-Smirnov test for train/test\\n\"\n",
    "    #          \"feature: {}, statistics: {:.5f}, pvalue: {:5f}\".format(col, statistic, pvalue))\n",
    "    #sns.kdeplot(train[col], color='blue', shade=True, label='Train')\n",
    "    #sns.kdeplot(test[col], color='green', shade=True, label='Test')\n",
    "\n",
    "    #plt.show()"
   ]
  },
  {
   "cell_type": "code",
   "execution_count": 36,
   "metadata": {},
   "outputs": [
    {
     "data": {
      "text/plain": [
       "2326"
      ]
     },
     "execution_count": 36,
     "metadata": {},
     "output_type": "execute_result"
    }
   ],
   "source": [
    "len(hypothesisnotrejected)"
   ]
  },
  {
   "cell_type": "code",
   "execution_count": 37,
   "metadata": {},
   "outputs": [],
   "source": [
    "total = total.drop(hypothesisrejected, axis = 1)"
   ]
  },
  {
   "cell_type": "markdown",
   "metadata": {},
   "source": [
    "캣부스트가 자꾸 튕기는데 값이 너무 자잘해서 그런것같음 "
   ]
  },
  {
   "cell_type": "markdown",
   "metadata": {},
   "source": [
    "## starter\n",
    "1. Catboost model 을 multiclass loss를 사용"
   ]
  },
  {
   "cell_type": "code",
   "execution_count": 38,
   "metadata": {},
   "outputs": [],
   "source": [
    "from catboost import CatBoostClassifier, Pool\n",
    "from sklearn.model_selection import StratifiedKFold,cross_val_score\n",
    "from sklearn.metrics import log_loss"
   ]
  },
  {
   "cell_type": "code",
   "execution_count": 39,
   "metadata": {},
   "outputs": [
    {
     "name": "stderr",
     "output_type": "stream",
     "text": [
      "C:\\Users\\ghdbs\\AppData\\Local\\Continuum\\anaconda3\\lib\\site-packages\\pandas\\core\\frame.py:7138: FutureWarning: Sorting because non-concatenation axis is not aligned. A future version\n",
      "of pandas will change to not sort by default.\n",
      "\n",
      "To accept the future behavior, pass 'sort=False'.\n",
      "\n",
      "To retain the current behavior and silence the warning, pass 'sort=True'.\n",
      "\n",
      "  sort=sort,\n"
     ]
    }
   ],
   "source": [
    "df_train = train.copy()\n",
    "df_test = test.copy()\n",
    "features_original = [c for c in train.columns if c not in ['id', 'target']]\n",
    "\n",
    "len_train = len(train)\n",
    "train = train.append(test).reset_index(drop = True)\n",
    "\n",
    "train = train.drop(hypothesisrejected, axis = 1)\n",
    "train = train.drop(['V2186','V2188','V1431','V2166','V2899','V2164','V1745','V2173','V2190','V2169','V2161',\n",
    "                    'V2167','V2159','V2165','V2834','V0090','V1205','V2174','V2178','V4418','V0885','V1442', \n",
    "                    'V2688'],axis = 1)\n",
    "\n",
    "test = train[len_train:]\n",
    "train = train[:len_train]"
   ]
  },
  {
   "cell_type": "code",
   "execution_count": 40,
   "metadata": {},
   "outputs": [],
   "source": [
    "from sklearn.preprocessing import StandardScaler"
   ]
  },
  {
   "cell_type": "code",
   "execution_count": 41,
   "metadata": {},
   "outputs": [
    {
     "name": "stdout",
     "output_type": "stream",
     "text": [
      "Wall time: 2.4 s\n"
     ]
    }
   ],
   "source": [
    "%%time\n",
    "\n",
    "#Starter 모델 만들기\n",
    "#빠르게 학습, 테스트 위해 하이퍼파라미터 설정\n",
    "# 1분 내로 줄이면서 KFold 스코어랑 많이 차이 안나게\n",
    "\n",
    "feature_importance = pd.DataFrame()\n",
    "\n",
    "features = [c for c in train.columns if c not in ['label', 'id']]\n",
    "target = train['label']\n",
    "X_train, X_valid, y_train, y_valid = train_test_split(train[features], target, test_size=0.20, random_state=42)\n",
    "scaler = StandardScaler()\n",
    "X_train = scaler.fit_transform(X_train)\n",
    "X_valid = scaler.fit_transform(X_valid)\n",
    "\n",
    "trn_data = Pool(data = X_train, label = y_train)\n",
    "val_data = Pool(data = X_valid, label = y_valid)\n",
    "\n",
    "model = CatBoostClassifier(#task_type = \"GPU\",\n",
    "                           devices='0',\n",
    "                           random_seed = 10,\n",
    "                          loss_function='MultiClass')"
   ]
  },
  {
   "cell_type": "code",
   "execution_count": null,
   "metadata": {},
   "outputs": [
    {
     "name": "stdout",
     "output_type": "stream",
     "text": [
      "0:\tlearn: 4.9635576\ttest: 4.9680383\tbest: 4.9680383 (0)\ttotal: 43.6s\tremaining: 12h 5m 56s\n",
      "100:\tlearn: 2.7253475\ttest: 2.8586025\tbest: 2.8586025 (100)\ttotal: 1h 14m 12s\tremaining: 11h 33s\n",
      "200:\tlearn: 2.3045248\ttest: 2.4797306\tbest: 2.4797306 (200)\ttotal: 2h 27m 28s\tremaining: 9h 46m 12s\n"
     ]
    }
   ],
   "source": [
    "fit_model = model.fit(trn_data,\n",
    "                     eval_set = val_data,\n",
    "                     use_best_model = True,\n",
    "                     verbose = 100,\n",
    "                     plot = False)"
   ]
  },
  {
   "cell_type": "code",
   "execution_count": null,
   "metadata": {},
   "outputs": [],
   "source": [
    "p_valid = fit_model.predict_proba(X_valid[features].values)\n",
    "yp = fit_model.predict_proba(test[features].values)"
   ]
  },
  {
   "cell_type": "code",
   "execution_count": null,
   "metadata": {},
   "outputs": [],
   "source": [
    "from catboost import Pool, CatBoostClassifier\n",
    "\n",
    "train_data = [[\"summer\", 1924, 44],\n",
    "              [\"summer\", 1932, 37],\n",
    "              [\"winter\", 1980, 37],\n",
    "              [\"summer\", 2012, 204]]\n",
    "\n",
    "eval_data = [[\"winter\", 1996, 197],\n",
    "             [\"winter\", 1968, 37],\n",
    "             [\"summer\", 2002, 77],\n",
    "             [\"summer\", 1948, 59]]\n",
    "\n",
    "cat_features = [0]\n",
    "\n",
    "train_label = [\"France\", \"USA\", \"USA\", \"UK\"]\n",
    "eval_label = [\"USA\", \"France\", \"USA\", \"UK\"]\n",
    "\n",
    "\n",
    "train_dataset = Pool(data=train_data,\n",
    "                     label=train_label,\n",
    "                     cat_features=cat_features)\n",
    "\n",
    "eval_dataset = Pool(data=eval_data,\n",
    "                    label=eval_label,\n",
    "                    cat_features=cat_features)\n",
    "\n",
    "# Initialize CatBoostClassifier\n",
    "model = CatBoostClassifier(task_type = \"GPU\",\n",
    "                           devices='0',\n",
    "                           random_seed = 10,\n",
    "                          loss_function='MultiClass')\n",
    "# Fit model\n",
    "model.fit(train_dataset)"
   ]
  },
  {
   "cell_type": "code",
   "execution_count": null,
   "metadata": {},
   "outputs": [],
   "source": [
    "yp"
   ]
  },
  {
   "cell_type": "code",
   "execution_count": null,
   "metadata": {},
   "outputs": [],
   "source": [
    "yp.shape"
   ]
  },
  {
   "cell_type": "code",
   "execution_count": null,
   "metadata": {},
   "outputs": [],
   "source": [
    "logloss = log_loss(y_valid, p_valid)\n",
    "feature_importance[\"feature\"] = features\n",
    "feature_importance[\"importance\"] = model.get_feature_importance(val_data,type='LossFunctionChange')\n",
    "print(f'log_loss: {logloss:.5}')"
   ]
  },
  {
   "cell_type": "code",
   "execution_count": null,
   "metadata": {},
   "outputs": [],
   "source": [
    "cols = feature_importance[[\"feature\", \"importance\"]].groupby(\"feature\").mean().sort_values(\n",
    "        by=\"importance\", ascending=False)[:100].index\n",
    "best_features = feature_importance.loc[feature_importance.feature.isin(cols)]\n",
    "plt.figure(figsize=(20, 30));\n",
    "sns.barplot(x=\"importance\", y=\"feature\", data=best_features.sort_values(by=\"importance\", ascending=False));\n",
    "plt.title('Catboost Importance');\n",
    "plt.show()"
   ]
  },
  {
   "cell_type": "code",
   "execution_count": null,
   "metadata": {},
   "outputs": [],
   "source": [
    "benchmark = logloss\n",
    "print(f'benchmark score: {benchmark:.5}')"
   ]
  },
  {
   "cell_type": "markdown",
   "metadata": {},
   "source": [
    "## 성능 비교&개선 위한 small dataset\n",
    "1. 빠르면서도 전체 데이터 반영\n",
    "    => 각 target 라벨마다 stratified subsampling\n",
    "2. 전체 데이터의 20%만 사용"
   ]
  },
  {
   "cell_type": "code",
   "execution_count": null,
   "metadata": {},
   "outputs": [],
   "source": [
    "_x,X_subtrain, _y, y_subtrain = train_test_split(train[features], target, test_size=0.20, stratify = _y, random_state=42)"
   ]
  },
  {
   "cell_type": "markdown",
   "metadata": {},
   "source": [
    "#### 2. 30번째 데이터 문자열 처리\n",
    "\n",
    "ㅁㅇㄴ\n",
    "train_obj.head()\n",
    "two_unique_values_col = []\n",
    "more_unique_values_col = []\n",
    "for col in train_obj.columns:\n",
    "    if len(train_obj[col].value_counts().keys()) == 2:\n",
    "        two_unique_values_col.append(col)\n",
    "    else:\n",
    "        more_unique_values_col.append(col)\n",
    "\n",
    "len(two_unique_values_col)\n",
    "\n",
    "train[more_unique_values_col[0]].value_counts()\n",
    "\n",
    "test[more_unique_values_col[0]].value_counts()\n",
    "\n",
    "train.to_csv(\"train.csv\",index=False)\n",
    "\n",
    "train_obj = train[train.columns[train.dtypes == object]]\n",
    "\n",
    "train_obj.iloc[:,1002].value_counts()\n",
    "\n",
    "580 개의 row가 계속 string 값을 가지고있음\n",
    "이 580개의 row를 제외하면 문자열을 가진 값 X\n",
    "\n",
    "str_row_list = []\n",
    "for i in range(len(train_obj)):\n",
    "    try:\n",
    "        train_obj.iloc[i,].astype(np.float64)\n",
    "    except:\n",
    "        str_row_list.append(i)\n",
    "\n",
    "len(str_row_list)\n",
    "\n",
    "train.iloc[str_row_list,:]"
   ]
  }
 ],
 "metadata": {
  "kernelspec": {
   "display_name": "Python 3",
   "language": "python",
   "name": "python3"
  },
  "language_info": {
   "codemirror_mode": {
    "name": "ipython",
    "version": 3
   },
   "file_extension": ".py",
   "mimetype": "text/x-python",
   "name": "python",
   "nbconvert_exporter": "python",
   "pygments_lexer": "ipython3",
   "version": "3.7.3"
  }
 },
 "nbformat": 4,
 "nbformat_minor": 2
}
